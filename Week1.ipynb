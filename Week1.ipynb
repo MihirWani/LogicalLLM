{
 "cells": [
  {
   "cell_type": "markdown",
   "id": "ecb65704",
   "metadata": {},
   "source": [
    "Implement MLP architecture using pure Python (no NumPy)\n"
   ]
  },
  {
   "cell_type": "code",
   "execution_count": 2,
   "id": "7ea8fe97",
   "metadata": {},
   "outputs": [],
   "source": [
    "import numpy as np \n",
    "import pandas as pd "
   ]
  }
 ],
 "metadata": {
  "kernelspec": {
   "display_name": "base",
   "language": "python",
   "name": "python3"
  },
  "language_info": {
   "codemirror_mode": {
    "name": "ipython",
    "version": 3
   },
   "file_extension": ".py",
   "mimetype": "text/x-python",
   "name": "python",
   "nbconvert_exporter": "python",
   "pygments_lexer": "ipython3",
   "version": "3.12.7"
  }
 },
 "nbformat": 4,
 "nbformat_minor": 5
}
